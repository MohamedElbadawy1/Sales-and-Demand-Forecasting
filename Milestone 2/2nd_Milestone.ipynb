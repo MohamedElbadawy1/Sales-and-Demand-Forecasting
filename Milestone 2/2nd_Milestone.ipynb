{
 "cells": [
  {
   "cell_type": "markdown",
   "metadata": {},
   "source": [
    "> Import Libraries"
   ]
  },
  {
   "cell_type": "code",
   "execution_count": 3,
   "metadata": {},
   "outputs": [],
   "source": [
    "import pandas as pd \n",
    "import matplotlib.pyplot as plt \n",
    "import seaborn as sns\n",
    "import plotly.express as px\n",
    "import warnings\n",
    "warnings.filterwarnings(\"ignore\")\n",
    "from sklearn.preprocessing import LabelEncoder"
   ]
  },
  {
   "cell_type": "markdown",
   "metadata": {},
   "source": [
    "> Loading Dataset"
   ]
  },
  {
   "cell_type": "code",
   "execution_count": 4,
   "metadata": {},
   "outputs": [
    {
     "data": {
      "text/html": [
       "<div>\n",
       "<style scoped>\n",
       "    .dataframe tbody tr th:only-of-type {\n",
       "        vertical-align: middle;\n",
       "    }\n",
       "\n",
       "    .dataframe tbody tr th {\n",
       "        vertical-align: top;\n",
       "    }\n",
       "\n",
       "    .dataframe thead th {\n",
       "        text-align: right;\n",
       "    }\n",
       "</style>\n",
       "<table border=\"1\" class=\"dataframe\">\n",
       "  <thead>\n",
       "    <tr style=\"text-align: right;\">\n",
       "      <th></th>\n",
       "      <th>Order Date</th>\n",
       "      <th>Ship Date</th>\n",
       "      <th>Ship Mode</th>\n",
       "      <th>Customer Name</th>\n",
       "      <th>Segment</th>\n",
       "      <th>City</th>\n",
       "      <th>State</th>\n",
       "      <th>Country</th>\n",
       "      <th>Market</th>\n",
       "      <th>Region</th>\n",
       "      <th>...</th>\n",
       "      <th>Ship Mode_Encoded</th>\n",
       "      <th>Segment_Encoded</th>\n",
       "      <th>Market_Encoded</th>\n",
       "      <th>Category_Encoded</th>\n",
       "      <th>Sub-Category_Encoded</th>\n",
       "      <th>Region_Encoded</th>\n",
       "      <th>Season_Encoded</th>\n",
       "      <th>Sales_Lag_1D</th>\n",
       "      <th>Sales_Lag_7D</th>\n",
       "      <th>Sales_Lag_30D</th>\n",
       "    </tr>\n",
       "  </thead>\n",
       "  <tbody>\n",
       "    <tr>\n",
       "      <th>0</th>\n",
       "      <td>2012-07-31</td>\n",
       "      <td>2012-07-31</td>\n",
       "      <td>Same Day</td>\n",
       "      <td>Rick Hansen</td>\n",
       "      <td>Consumer</td>\n",
       "      <td>New York City</td>\n",
       "      <td>New York</td>\n",
       "      <td>United States</td>\n",
       "      <td>US</td>\n",
       "      <td>East</td>\n",
       "      <td>...</td>\n",
       "      <td>1</td>\n",
       "      <td>0</td>\n",
       "      <td>6</td>\n",
       "      <td>2</td>\n",
       "      <td>0</td>\n",
       "      <td>6</td>\n",
       "      <td>2</td>\n",
       "      <td>246.490581</td>\n",
       "      <td>246.490581</td>\n",
       "      <td>246.490581</td>\n",
       "    </tr>\n",
       "    <tr>\n",
       "      <th>1</th>\n",
       "      <td>2013-02-05</td>\n",
       "      <td>2013-02-07</td>\n",
       "      <td>Second Class</td>\n",
       "      <td>Justin Ritter</td>\n",
       "      <td>Corporate</td>\n",
       "      <td>Wollongong</td>\n",
       "      <td>New South Wales</td>\n",
       "      <td>Australia</td>\n",
       "      <td>APAC</td>\n",
       "      <td>Oceania</td>\n",
       "      <td>...</td>\n",
       "      <td>2</td>\n",
       "      <td>1</td>\n",
       "      <td>0</td>\n",
       "      <td>0</td>\n",
       "      <td>5</td>\n",
       "      <td>9</td>\n",
       "      <td>3</td>\n",
       "      <td>246.490581</td>\n",
       "      <td>246.490581</td>\n",
       "      <td>246.490581</td>\n",
       "    </tr>\n",
       "    <tr>\n",
       "      <th>2</th>\n",
       "      <td>2013-10-17</td>\n",
       "      <td>2013-10-18</td>\n",
       "      <td>First Class</td>\n",
       "      <td>Craig Reiter</td>\n",
       "      <td>Consumer</td>\n",
       "      <td>Brisbane</td>\n",
       "      <td>Queensland</td>\n",
       "      <td>Australia</td>\n",
       "      <td>APAC</td>\n",
       "      <td>Oceania</td>\n",
       "      <td>...</td>\n",
       "      <td>0</td>\n",
       "      <td>0</td>\n",
       "      <td>0</td>\n",
       "      <td>2</td>\n",
       "      <td>13</td>\n",
       "      <td>9</td>\n",
       "      <td>0</td>\n",
       "      <td>246.490581</td>\n",
       "      <td>246.490581</td>\n",
       "      <td>246.490581</td>\n",
       "    </tr>\n",
       "    <tr>\n",
       "      <th>3</th>\n",
       "      <td>2013-01-28</td>\n",
       "      <td>2013-01-30</td>\n",
       "      <td>First Class</td>\n",
       "      <td>Katherine Murray</td>\n",
       "      <td>Home Office</td>\n",
       "      <td>Berlin</td>\n",
       "      <td>Berlin</td>\n",
       "      <td>Germany</td>\n",
       "      <td>EU</td>\n",
       "      <td>Central</td>\n",
       "      <td>...</td>\n",
       "      <td>0</td>\n",
       "      <td>2</td>\n",
       "      <td>4</td>\n",
       "      <td>2</td>\n",
       "      <td>13</td>\n",
       "      <td>3</td>\n",
       "      <td>3</td>\n",
       "      <td>246.490581</td>\n",
       "      <td>246.490581</td>\n",
       "      <td>246.490581</td>\n",
       "    </tr>\n",
       "    <tr>\n",
       "      <th>4</th>\n",
       "      <td>2013-11-05</td>\n",
       "      <td>2013-11-06</td>\n",
       "      <td>Same Day</td>\n",
       "      <td>Rick Hansen</td>\n",
       "      <td>Consumer</td>\n",
       "      <td>Dakar</td>\n",
       "      <td>Dakar</td>\n",
       "      <td>Senegal</td>\n",
       "      <td>Africa</td>\n",
       "      <td>Africa</td>\n",
       "      <td>...</td>\n",
       "      <td>1</td>\n",
       "      <td>0</td>\n",
       "      <td>1</td>\n",
       "      <td>2</td>\n",
       "      <td>6</td>\n",
       "      <td>0</td>\n",
       "      <td>0</td>\n",
       "      <td>246.490581</td>\n",
       "      <td>246.490581</td>\n",
       "      <td>246.490581</td>\n",
       "    </tr>\n",
       "  </tbody>\n",
       "</table>\n",
       "<p>5 rows × 44 columns</p>\n",
       "</div>"
      ],
      "text/plain": [
       "   Order Date   Ship Date     Ship Mode     Customer Name      Segment  \\\n",
       "0  2012-07-31  2012-07-31      Same Day       Rick Hansen     Consumer   \n",
       "1  2013-02-05  2013-02-07  Second Class     Justin Ritter    Corporate   \n",
       "2  2013-10-17  2013-10-18   First Class      Craig Reiter     Consumer   \n",
       "3  2013-01-28  2013-01-30   First Class  Katherine Murray  Home Office   \n",
       "4  2013-11-05  2013-11-06      Same Day       Rick Hansen     Consumer   \n",
       "\n",
       "            City            State        Country  Market   Region  ...  \\\n",
       "0  New York City         New York  United States      US     East  ...   \n",
       "1     Wollongong  New South Wales      Australia    APAC  Oceania  ...   \n",
       "2       Brisbane       Queensland      Australia    APAC  Oceania  ...   \n",
       "3         Berlin           Berlin        Germany      EU  Central  ...   \n",
       "4          Dakar            Dakar        Senegal  Africa   Africa  ...   \n",
       "\n",
       "  Ship Mode_Encoded Segment_Encoded Market_Encoded  Category_Encoded  \\\n",
       "0                 1               0              6                 2   \n",
       "1                 2               1              0                 0   \n",
       "2                 0               0              0                 2   \n",
       "3                 0               2              4                 2   \n",
       "4                 1               0              1                 2   \n",
       "\n",
       "   Sub-Category_Encoded  Region_Encoded  Season_Encoded  Sales_Lag_1D  \\\n",
       "0                     0               6               2    246.490581   \n",
       "1                     5               9               3    246.490581   \n",
       "2                    13               9               0    246.490581   \n",
       "3                    13               3               3    246.490581   \n",
       "4                     6               0               0    246.490581   \n",
       "\n",
       "  Sales_Lag_7D  Sales_Lag_30D  \n",
       "0   246.490581     246.490581  \n",
       "1   246.490581     246.490581  \n",
       "2   246.490581     246.490581  \n",
       "3   246.490581     246.490581  \n",
       "4   246.490581     246.490581  \n",
       "\n",
       "[5 rows x 44 columns]"
      ]
     },
     "execution_count": 4,
     "metadata": {},
     "output_type": "execute_result"
    }
   ],
   "source": [
    "sales = sales = pd.read_csv('../Data/Data After Milestone 1.csv', encoding='latin-1')\n",
    "sales.head()"
   ]
  },
  {
   "cell_type": "markdown",
   "metadata": {},
   "source": [
    "# 1. Advanced Data Analysis: "
   ]
  },
  {
   "cell_type": "markdown",
   "metadata": {},
   "source": [
    "### • Conduct time series analysis to identify trends, seasonality, and cyclic patterns."
   ]
  },
  {
   "cell_type": "code",
   "execution_count": null,
   "metadata": {},
   "outputs": [],
   "source": []
  },
  {
   "cell_type": "markdown",
   "metadata": {},
   "source": [
    "### • Use statistical tests (e.g., ADF test for stationarity) to ensure data suitability for time series modeling. "
   ]
  },
  {
   "cell_type": "code",
   "execution_count": 5,
   "metadata": {},
   "outputs": [],
   "source": [
    "from statsmodels.tsa.stattools import adfuller"
   ]
  },
  {
   "cell_type": "code",
   "execution_count": 6,
   "metadata": {},
   "outputs": [
    {
     "data": {
      "image/png": "[encoded data removed]",
      "text/plain": [
       "<Figure size 640x480 with 1 Axes>"
      ]
     },
     "metadata": {},
     "output_type": "display_data"
    }
   ],
   "source": [
    "sales = sales.sort_values('Order Date') \n",
    "plt.plot(sales['Order Date'], sales['Sales'], label='Sales')\n",
    "plt.xlabel('Date')\n",
    "plt.ylabel('Sales')\n",
    "plt.title('Sales Over Time')\n",
    "plt.legend()\n",
    "plt.show()"
   ]
  },
  {
   "cell_type": "code",
   "execution_count": 7,
   "metadata": {},
   "outputs": [
    {
     "name": "stdout",
     "output_type": "stream",
     "text": [
      "ADF Test Results:\n",
      "ADF Statistic: -158.66687997814023\n",
      "p-value: 0.0\n",
      "Critical Values:\n",
      "   1%: -3.4304775079418035\n",
      "   5%: -2.861596355922802\n",
      "   10%: -2.566799996388417\n",
      "\n",
      " The data is stationary (reject null hypothesis).\n"
     ]
    }
   ],
   "source": [
    "def adf_test(series):\n",
    "    result = adfuller(series, autolag='AIC')\n",
    "    print(\"ADF Test Results:\")\n",
    "    print(f\"ADF Statistic: {result[0]}\")\n",
    "    print(f\"p-value: {result[1]}\")\n",
    "    print(\"Critical Values:\")\n",
    "    for key, value in result[4].items():\n",
    "        print(f\"   {key}: {value}\")\n",
    "\n",
    "    if result[1] <= 0.05:\n",
    "        print(\"\\n The data is stationary (reject null hypothesis).\")\n",
    "    else:\n",
    "        print(\"\\n The data is non-stationary (fail to reject null hypothesis).\")\n",
    "\n",
    "adf_test(sales['Sales'])\n"
   ]
  },
  {
   "cell_type": "code",
   "execution_count": 8,
   "metadata": {},
   "outputs": [],
   "source": [
    "# Understanding the ADF Test Results\n",
    "# ADF Statistic: -158.29\n",
    "# This is the test statistic calculated by the ADF test.\n",
    "# The more negative this value is, the stronger the evidence that the data is stationary.\n",
    "#---------------------------------------------------------------------------------------------------\n",
    "# p-value: 0.0\n",
    "# The p-value tells us whether to reject or fail to reject the null hypothesis:\n",
    "# If p-value ≤ 0.05 → Reject the null hypothesis → Data is stationary .\n",
    "# If p-value > 0.05 → Fail to reject the null hypothesis → Data is non-stationary .\n",
    "# Since p-value is 0.0, we strongly reject the null hypothesis, confirming that the data is already stationary.\n",
    "#---------------------------------------------------------------------------------------------------\n",
    "# Critical Values\n",
    "# These values help compare the ADF Statistic:\n",
    "# 1% Level: -3.430\n",
    "# 5% Level: -2.862\n",
    "# 10% Level: -2.567\n",
    "# If the ADF Statistic (-158.29) is lower (more negative) than the critical values, it confirms stationarity.\n",
    "# In our case, -158.29 is much lower than all critical values, so we confirm stationarity.\n",
    "# What Does This Mean for our Forecasting?\n",
    "# Because our data is already stationary, I do NOT need to transform it like differencing or log transformation."
   ]
  },
  {
   "cell_type": "code",
   "execution_count": null,
   "metadata": {},
   "outputs": [],
   "source": []
  },
  {
   "cell_type": "code",
   "execution_count": null,
   "metadata": {},
   "outputs": [],
   "source": []
  },
  {
   "cell_type": "code",
   "execution_count": null,
   "metadata": {},
   "outputs": [],
   "source": []
  },
  {
   "cell_type": "code",
   "execution_count": null,
   "metadata": {},
   "outputs": [],
   "source": []
  },
  {
   "cell_type": "markdown",
   "metadata": {},
   "source": [
    "### • Perform correlation analysis to explore the relationships between features such as sales, promotions, holidays, and weather."
   ]
  },
  {
   "cell_type": "code",
   "execution_count": null,
   "metadata": {},
   "outputs": [],
   "source": []
  },
  {
   "cell_type": "markdown",
   "metadata": {},
   "source": [
    "# 2. Feature Engineering:"
   ]
  },
  {
   "cell_type": "markdown",
   "metadata": {},
   "source": [
    "### • Create time series features like rolling averages, lag features, and seasonal components (e.g., holiday effects, month). "
   ]
  },
  {
   "cell_type": "code",
   "execution_count": null,
   "metadata": {},
   "outputs": [],
   "source": []
  },
  {
   "cell_type": "markdown",
   "metadata": {},
   "source": [
    "### • Perform feature transformations such as scaling, encoding, and aggregating features (e.g., monthly sales totals). "
   ]
  },
  {
   "cell_type": "code",
   "execution_count": null,
   "metadata": {},
   "outputs": [],
   "source": []
  },
  {
   "cell_type": "markdown",
   "metadata": {},
   "source": [
    "### • Introduce external factors like weather, promotions, or economic conditions to improve the forecast accuracy. "
   ]
  },
  {
   "cell_type": "code",
   "execution_count": null,
   "metadata": {},
   "outputs": [],
   "source": []
  }
 ],
 "metadata": {
  "kernelspec": {
   "display_name": "base",
   "language": "python",
   "name": "python3"
  },
  "language_info": {
   "codemirror_mode": {
    "name": "ipython",
    "version": 3
   },
   "file_extension": ".py",
   "mimetype": "text/x-python",
   "name": "python",
   "nbconvert_exporter": "python",
   "pygments_lexer": "ipython3",
   "version": "3.12.7"
  }
 },
 "nbformat": 4,
 "nbformat_minor": 2
}
