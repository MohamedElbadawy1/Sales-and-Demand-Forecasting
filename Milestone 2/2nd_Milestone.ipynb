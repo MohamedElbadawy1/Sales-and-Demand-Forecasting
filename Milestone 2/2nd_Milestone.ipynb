{
 "cells": [
  {
   "cell_type": "markdown",
   "metadata": {},
   "source": [
    "> Import Libraries"
   ]
  },
  {
   "cell_type": "code",
   "execution_count": 47,
   "metadata": {},
   "outputs": [],
   "source": [
    "import pandas as pd \n",
    "import matplotlib.pyplot as plt \n",
    "import seaborn as sns\n",
    "import plotly.express as px\n",
    "import warnings\n",
    "warnings.filterwarnings(\"ignore\")\n",
    "from sklearn.preprocessing import LabelEncoder"
   ]
  },
  {
   "cell_type": "markdown",
   "metadata": {},
   "source": [
    "> Loading Dataset"
   ]
  },
  {
   "cell_type": "code",
   "execution_count": 48,
   "metadata": {},
   "outputs": [
    {
     "data": {
      "text/plain": [
       "(51290, 29)"
      ]
     },
     "execution_count": 48,
     "metadata": {},
     "output_type": "execute_result"
    }
   ],
   "source": [
    "sales = sales = pd.read_csv('../Data/Data After Milestone 1.csv', encoding='latin-1')\n",
    "sales.shape"
   ]
  },
  {
   "cell_type": "markdown",
   "metadata": {},
   "source": [
    "# 1. Advanced Data Analysis: "
   ]
  },
  {
   "cell_type": "markdown",
   "metadata": {},
   "source": [
    "### • Conduct time series analysis to identify trends, seasonality, and cyclic patterns."
   ]
  },
  {
   "cell_type": "code",
   "execution_count": null,
   "metadata": {},
   "outputs": [],
   "source": []
  },
  {
   "cell_type": "markdown",
   "metadata": {},
   "source": [
    "### • Use statistical tests (e.g., ADF test for stationarity) to ensure data suitability for time series modeling. "
   ]
  },
  {
   "cell_type": "code",
   "execution_count": 49,
   "metadata": {},
   "outputs": [],
   "source": [
    "from statsmodels.tsa.stattools import adfuller"
   ]
  },
  {
   "cell_type": "code",
   "execution_count": 50,
   "metadata": {},
   "outputs": [
    {
     "data": {
      "image/png": "[encoded data removed]",
      "text/plain": [
       "<Figure size 640x480 with 1 Axes>"
      ]
     },
     "metadata": {},
     "output_type": "display_data"
    }
   ],
   "source": [
    "sales = sales.sort_values('Order Date') \n",
    "plt.plot(sales['Order Date'], sales['Sales'], label='Sales')\n",
    "plt.xlabel('Date')\n",
    "plt.ylabel('Sales')\n",
    "plt.title('Sales Over Time')\n",
    "plt.legend()\n",
    "plt.show()"
   ]
  },
  {
   "cell_type": "code",
   "execution_count": 51,
   "metadata": {},
   "outputs": [
    {
     "name": "stdout",
     "output_type": "stream",
     "text": [
      "ADF Test Results:\n",
      "ADF Statistic: -158.2924866848385\n",
      "p-value: 0.0\n",
      "Critical Values:\n",
      "   1%: -3.4304775079418035\n",
      "   5%: -2.861596355922802\n",
      "   10%: -2.566799996388417\n",
      "\n",
      " The data is stationary (reject null hypothesis).\n"
     ]
    }
   ],
   "source": [
    "def adf_test(series):\n",
    "    result = adfuller(series, autolag='AIC')\n",
    "    print(\"ADF Test Results:\")\n",
    "    print(f\"ADF Statistic: {result[0]}\")\n",
    "    print(f\"p-value: {result[1]}\")\n",
    "    print(\"Critical Values:\")\n",
    "    for key, value in result[4].items():\n",
    "        print(f\"   {key}: {value}\")\n",
    "\n",
    "    if result[1] <= 0.05:\n",
    "        print(\"\\n The data is stationary (reject null hypothesis).\")\n",
    "    else:\n",
    "        print(\"\\n The data is non-stationary (fail to reject null hypothesis).\")\n",
    "\n",
    "adf_test(sales['Sales'])\n"
   ]
  },
  {
   "cell_type": "code",
   "execution_count": null,
   "metadata": {},
   "outputs": [],
   "source": [
    "# Understanding the ADF Test Results\n",
    "# ADF Statistic: -158.29\n",
    "# This is the test statistic calculated by the ADF test.\n",
    "# The more negative this value is, the stronger the evidence that the data is stationary.\n",
    "#---------------------------------------------------------------------------------------------------\n",
    "# p-value: 0.0\n",
    "# The p-value tells us whether to reject or fail to reject the null hypothesis:\n",
    "# If p-value ≤ 0.05 → Reject the null hypothesis → Data is stationary .\n",
    "# If p-value > 0.05 → Fail to reject the null hypothesis → Data is non-stationary .\n",
    "# Since p-value is 0.0, we strongly reject the null hypothesis, confirming that the data is already stationary.\n",
    "#---------------------------------------------------------------------------------------------------\n",
    "# Critical Values\n",
    "# These values help compare the ADF Statistic:\n",
    "# 1% Level: -3.430\n",
    "# 5% Level: -2.862\n",
    "# 10% Level: -2.567\n",
    "# If the ADF Statistic (-158.29) is lower (more negative) than the critical values, it confirms stationarity.\n",
    "# In our case, -158.29 is much lower than all critical values, so we confirm stationarity.\n",
    "# What Does This Mean for our Forecasting?\n",
    "# Because our data is already stationary, I do NOT need to transform it like differencing or log transformation."
   ]
  },
  {
   "cell_type": "code",
   "execution_count": null,
   "metadata": {},
   "outputs": [],
   "source": []
  },
  {
   "cell_type": "code",
   "execution_count": null,
   "metadata": {},
   "outputs": [],
   "source": []
  },
  {
   "cell_type": "code",
   "execution_count": null,
   "metadata": {},
   "outputs": [],
   "source": []
  },
  {
   "cell_type": "code",
   "execution_count": null,
   "metadata": {},
   "outputs": [],
   "source": []
  },
  {
   "cell_type": "markdown",
   "metadata": {},
   "source": [
    "### • Perform correlation analysis to explore the relationships between features such as sales, promotions, holidays, and weather."
   ]
  },
  {
   "cell_type": "code",
   "execution_count": null,
   "metadata": {},
   "outputs": [],
   "source": []
  },
  {
   "cell_type": "markdown",
   "metadata": {},
   "source": [
    "# 2. Feature Engineering:"
   ]
  },
  {
   "cell_type": "markdown",
   "metadata": {},
   "source": [
    "### • Create time series features like rolling averages, lag features, and seasonal components (e.g., holiday effects, month). "
   ]
  },
  {
   "cell_type": "code",
   "execution_count": null,
   "metadata": {},
   "outputs": [],
   "source": []
  },
  {
   "cell_type": "markdown",
   "metadata": {},
   "source": [
    "### • Perform feature transformations such as scaling, encoding, and aggregating features (e.g., monthly sales totals). "
   ]
  },
  {
   "cell_type": "code",
   "execution_count": null,
   "metadata": {},
   "outputs": [],
   "source": []
  },
  {
   "cell_type": "markdown",
   "metadata": {},
   "source": [
    "### • Introduce external factors like weather, promotions, or economic conditions to improve the forecast accuracy. "
   ]
  },
  {
   "cell_type": "code",
   "execution_count": null,
   "metadata": {},
   "outputs": [],
   "source": []
  }
 ],
 "metadata": {
  "kernelspec": {
   "display_name": "Python 3",
   "language": "python",
   "name": "python3"
  },
  "language_info": {
   "codemirror_mode": {
    "name": "ipython",
    "version": 3
   },
   "file_extension": ".py",
   "mimetype": "text/x-python",
   "name": "python",
   "nbconvert_exporter": "python",
   "pygments_lexer": "ipython3",
   "version": "3.12.2"
  }
 },
 "nbformat": 4,
 "nbformat_minor": 2
}
